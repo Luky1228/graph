{
 "cells": [
  {
   "cell_type": "markdown",
   "metadata": {},
   "source": [
    "# Часть 1 Получение Карт"
   ]
  },
  {
   "cell_type": "code",
   "execution_count": null,
   "metadata": {},
   "outputs": [],
   "source": [
    "!jt -t chesterish"
   ]
  },
  {
   "cell_type": "code",
   "execution_count": 1,
   "metadata": {},
   "outputs": [],
   "source": [
    "intersept = {'Невский проспект': 'Гостиный двор',\n",
    "             'Маяковская': 'Площадь Восстания',\n",
    "             'Площадь Александра Невского 2': 'Площадь Александра Невского 1',\n",
    "             'Владимирская': 'Достоевская',\n",
    "             'Сенная площадь': 'Спасская',\n",
    "             'Садовая': 'Спасская',\n",
    "             'Технологический институт 2': 'Технологический институт 1',\n",
    "             'Звенигородская': 'Пушкинская'}"
   ]
  },
  {
   "cell_type": "code",
   "execution_count": 2,
   "metadata": {},
   "outputs": [
    {
     "name": "stdout",
     "output_type": "stream",
     "text": [
      "Владимирская -> Достоевская\n",
      "Невский проспект -> Гостиный двор\n",
      "Сенная площадь -> Спасская\n",
      "Технологический институт 2 -> Технологический институт 1\n",
      "Маяковская -> Площадь Восстания\n",
      "Площадь Александра Невского 2 -> Площадь Александра Невского 1\n",
      "Садовая -> Спасская\n",
      "Звенигородская -> Пушкинская\n"
     ]
    }
   ],
   "source": [
    "lines = {'r':[], 'g':[], 'b':[], 'o':[], 'v':[]}\n",
    "with open(\"MSpG.txt\", \"r\", encoding=\"utf-8\") as text:\n",
    "    stations = []\n",
    "    for line in text:\n",
    "        line = line.replace('\\n','')\n",
    "        if line in ['r', 'g', 'b', 'o', 'v']:\n",
    "            key = line\n",
    "        else:\n",
    "            if line in intersept.keys():\n",
    "                print(line,'->', end = ' ')\n",
    "                line = intersept[line]\n",
    "                print(line)\n",
    "            lines[key].append(line)\n",
    "            if not(line in stations):\n",
    "                stations.append(line)"
   ]
  },
  {
   "cell_type": "code",
   "execution_count": 3,
   "metadata": {},
   "outputs": [],
   "source": [
    "def makeLine(line, st, metMap):\n",
    "    for i in range(len(line) - 1):\n",
    "        fr = line[i]\n",
    "        to = line[i + 1]\n",
    "        j = st.index(fr)\n",
    "        k = st.index(to)\n",
    "        metMap[j][k] = metMap[k][j] = 1"
   ]
  },
  {
   "cell_type": "code",
   "execution_count": 4,
   "metadata": {},
   "outputs": [],
   "source": [
    "SpbMet= [[0] * len(stations) for i in range(len(stations))]\n"
   ]
  },
  {
   "cell_type": "code",
   "execution_count": 5,
   "metadata": {},
   "outputs": [
    {
     "name": "stdout",
     "output_type": "stream",
     "text": [
      "o ['Спасская', 'Достоевская', 'Лиговский проспект', 'Площадь Александра Невского 1', 'Новочеркасская', 'Ладожская', 'Проспект Большевиков', 'Улица Дыбенко']\n",
      "r ['Девяткино', 'Гражданский проспект', 'Академическая', 'Политехническая', 'Площадь Мужества', 'Лесная', 'Выборгская', 'Площадь Ленина', 'Чернышевская', 'Площадь Восстания', 'Достоевская', 'Пушкинская', 'Технологический институт 1', 'Балтийская', 'Нарвская', 'Кировский завод', 'Автово', 'Ленинский проспект', 'Проспект Ветеранов']\n",
      "g ['Беговая', 'Новокрестовская', 'Приморская', 'Василеостровская', 'Гостиный двор', 'Площадь Восстания', 'Площадь Александра Невского 1', 'Елизаровская', 'Ломоносовская', 'Пролетарская', 'Обухово', 'Рыбацкое']\n",
      "b ['Парнас', 'Проспект Просвещения', 'Озерки', 'Удельная', 'Пионерская', 'Чёрная речка', 'Петроградская', 'Горьковская', 'Гостиный двор', 'Спасская', 'Технологический институт 1', 'Фрунзенская', 'Московские ворота', 'Электросила', 'Парк Победы', 'Московская', 'Звёздная', 'Купчино']\n",
      "v ['Комендантский проспект', 'Старая Деревня', 'Крестовский остров', 'Чкаловская', 'Спортивная', 'Адмиралтейская', 'Спасская', 'Пушкинская', 'Обводный канал', 'Волковская', 'Бухарестская', 'Международная']\n"
     ]
    }
   ],
   "source": [
    "for clr in lines.keys():\n",
    "    print(clr, lines[clr])\n",
    "    makeLine(lines[clr], stations, SpbMet)\n"
   ]
  },
  {
   "cell_type": "code",
   "execution_count": 6,
   "metadata": {},
   "outputs": [
    {
     "name": "stdout",
     "output_type": "stream",
     "text": [
      "Девяткино -> Гражданский проспект\n",
      "Гражданский проспект -> Академическая\n",
      "Академическая -> Политехническая\n",
      "Политехническая -> Площадь Мужества\n",
      "Площадь Мужества -> Лесная\n",
      "Лесная -> Выборгская\n",
      "Выборгская -> Площадь Ленина\n",
      "Площадь Ленина -> Чернышевская\n",
      "Чернышевская -> Площадь Восстания\n",
      "Площадь Восстания -> Достоевская\n",
      "Площадь Восстания -> Гостиный двор\n",
      "Площадь Восстания -> Площадь Александра Невского 1\n",
      "Достоевская -> Пушкинская\n",
      "Достоевская -> Спасская\n",
      "Достоевская -> Лиговский проспект\n",
      "Пушкинская -> Технологический институт 1\n",
      "Пушкинская -> Спасская\n",
      "Пушкинская -> Обводный канал\n",
      "Технологический институт 1 -> Балтийская\n",
      "Технологический институт 1 -> Спасская\n",
      "Технологический институт 1 -> Фрунзенская\n",
      "Балтийская -> Нарвская\n",
      "Нарвская -> Кировский завод\n",
      "Кировский завод -> Автово\n",
      "Автово -> Ленинский проспект\n",
      "Ленинский проспект -> Проспект Ветеранов\n",
      "Парнас -> Проспект Просвещения\n",
      "Проспект Просвещения -> Озерки\n",
      "Озерки -> Удельная\n",
      "Удельная -> Пионерская\n",
      "Пионерская -> Чёрная речка\n",
      "Чёрная речка -> Петроградская\n",
      "Петроградская -> Горьковская\n",
      "Горьковская -> Гостиный двор\n",
      "Гостиный двор -> Спасская\n",
      "Гостиный двор -> Василеостровская\n",
      "Спасская -> Адмиралтейская\n",
      "Фрунзенская -> Московские ворота\n",
      "Московские ворота -> Электросила\n",
      "Электросила -> Парк Победы\n",
      "Парк Победы -> Московская\n",
      "Московская -> Звёздная\n",
      "Звёздная -> Купчино\n",
      "Беговая -> Новокрестовская\n",
      "Новокрестовская -> Приморская\n",
      "Приморская -> Василеостровская\n",
      "Площадь Александра Невского 1 -> Елизаровская\n",
      "Площадь Александра Невского 1 -> Лиговский проспект\n",
      "Площадь Александра Невского 1 -> Новочеркасская\n",
      "Елизаровская -> Ломоносовская\n",
      "Ломоносовская -> Пролетарская\n",
      "Пролетарская -> Обухово\n",
      "Обухово -> Рыбацкое\n",
      "Новочеркасская -> Ладожская\n",
      "Ладожская -> Проспект Большевиков\n",
      "Проспект Большевиков -> Улица Дыбенко\n",
      "Комендантский проспект -> Старая Деревня\n",
      "Старая Деревня -> Крестовский остров\n",
      "Крестовский остров -> Чкаловская\n",
      "Чкаловская -> Спортивная\n",
      "Спортивная -> Адмиралтейская\n",
      "Обводный канал -> Волковская\n",
      "Волковская -> Бухарестская\n",
      "Бухарестская -> Международная\n"
     ]
    }
   ],
   "source": [
    "for i in range(len(stations)):\n",
    "    for j in range(i + 1,len(stations)):\n",
    "        if SpbMet[i][j] == 1:\n",
    "            print(stations[i],'->', stations[j])"
   ]
  },
  {
   "cell_type": "code",
   "execution_count": 7,
   "metadata": {},
   "outputs": [],
   "source": [
    "with open(\"MonReal.txt\", \"r\", encoding=\"utf-8\") as text:\n",
    "    stationsMR = []\n",
    "    for line in text:\n",
    "        line = line.replace('\\n','')\n",
    "        line = line.strip()\n",
    "        stationsMR.append(line)"
   ]
  },
  {
   "cell_type": "code",
   "execution_count": 8,
   "metadata": {},
   "outputs": [],
   "source": [
    "with open(\"MRcon.txt\", \"r\", encoding=\"utf-8\") as text:\n",
    "    ways = []\n",
    "    for line in text:\n",
    "        line = line.replace('\\n','')\n",
    "        way = line.split(', ')[:2]\n",
    "        way[0] = way[0][2:]\n",
    "        ways.append(way)"
   ]
  },
  {
   "cell_type": "code",
   "execution_count": 9,
   "metadata": {},
   "outputs": [],
   "source": [
    "stationsMR = list(set(stationsMR))\n",
    "MRmet = [[0] * len(stationsMR) for i in range(len(stationsMR))]"
   ]
  },
  {
   "cell_type": "code",
   "execution_count": 10,
   "metadata": {},
   "outputs": [],
   "source": [
    "for i in ways:\n",
    "        fr = i[0]\n",
    "        to = i[1]\n",
    "        j = stationsMR.index(fr)\n",
    "        k = stationsMR.index(to)\n",
    "        MRmet[j][k] = 1"
   ]
  },
  {
   "cell_type": "code",
   "execution_count": 11,
   "metadata": {},
   "outputs": [
    {
     "name": "stdout",
     "output_type": "stream",
     "text": [
      "Jean-Drapeau -> Longueuil\n",
      "Jean-Drapeau -> Berri-UQAM\n",
      "Guy-Concordia -> Peel\n",
      "Guy-Concordia -> Atwater\n",
      "Lucien-l'Allier -> Georges-Vanier\n",
      "Lucien-l'Allier -> Bonaventure\n",
      "Prefontaine -> Frontenac\n",
      "Prefontaine -> Joliette\n",
      "Cremazie -> Jarry\n",
      "Cremazie -> Sauve\n",
      "Langelier -> Cadillac\n",
      "Langelier -> Radisson\n",
      "Outremont -> Acadie\n",
      "Outremont -> Edouard-Montpetit\n",
      "Papineau -> Beaudry\n",
      "Papineau -> Frontenac\n",
      "Square-Victoria -> Place-d'Armes\n",
      "Square-Victoria -> Bonaventure\n",
      "Beaudry -> Berri-UQAM\n",
      "De Castelnau -> Parc\n",
      "De Castelnau -> Jean-Talon\n",
      "Cadillac -> Assomption\n",
      "Beaubien -> Rosemont\n",
      "Beaubien -> Jean-Talon\n",
      "Honore-Beaugrand -> Radisson\n",
      "Assomption -> Viau\n",
      "Acadie -> Parc\n",
      "Du College -> De La Savane\n",
      "Du College -> Cote-Vertu\n",
      "Place des Arts -> McGill\n",
      "Place des Arts -> Saint-Laurent\n",
      "Rosemont -> Laurier\n",
      "Champ-de-Mars -> Place-d'Armes\n",
      "Champ-de-Mars -> Berri-UQAM\n",
      "Pie-IX -> Joliette\n",
      "Pie-IX -> Viau\n",
      "Snowdon -> Cote-des-Neiges\n",
      "Snowdon -> Cote-Sainte-Catherine\n",
      "Snowdon -> Villa-Maria\n",
      "Sherbrooke -> Mont-Royal\n",
      "Sherbrooke -> Berri-UQAM\n",
      "Cote-des-Neiges -> Universite-de-Montreal\n",
      "Peel -> McGill\n",
      "Saint-Michel -> D'Iberville\n",
      "Universite-de-Montreal -> Edouard-Montpetit\n",
      "Monk -> Angrignon\n",
      "Monk -> Jolicoeur\n",
      "D'Iberville -> Fabre\n",
      "De La Savane -> Namur\n",
      "Jarry -> Jean-Talon\n",
      "Georges-Vanier -> Lionel-Groulx\n",
      "De L'Eglise -> Verdun\n",
      "De L'Eglise -> LaSalle\n",
      "Sauve -> Henri-Bourassa\n",
      "Jolicoeur -> Verdun\n",
      "Fabre -> Jean-Talon\n",
      "Namur -> Plamondon\n",
      "Cote-Sainte-Catherine -> Plamondon\n",
      "Saint-Laurent -> Berri-UQAM\n",
      "Laurier -> Mont-Royal\n",
      "Lionel-Groulx -> Atwater\n",
      "Lionel-Groulx -> Place-St-Henri\n",
      "Lionel-Groulx -> Charlevoix\n",
      "LaSalle -> Charlevoix\n",
      "Villa-Maria -> Vendome\n",
      "Place-St-Henri -> Vendome\n"
     ]
    }
   ],
   "source": [
    "for i in range(len(stationsMR)):\n",
    "    for j in range(i + 1,len(stationsMR)):\n",
    "        if MRmet[i][j] == 1:\n",
    "            print(stationsMR[i],'->', stationsMR[j])"
   ]
  },
  {
   "cell_type": "code",
   "execution_count": 12,
   "metadata": {},
   "outputs": [],
   "source": [
    "NS_lins = {'r':['Заельцовская', 'Гагаринская', 'Сибирская', 'Площадь Ленина', 'Октябрьская', 'Речной вокзал','Студенческая','Площадь Маркса'],\n",
    "           'g':['Площадь Гагарина-Михайлевского', 'Сибирская', 'Маршала Покрышкина','Берёзовая роща','Золотая нива']}\n",
    "NS_stations = ['Заельцовская', 'Гагаринская', 'Сибирская', 'Площадь Ленина', 'Октябрьская', 'Речной вокзал','Студенческая','Площадь Маркса',\n",
    "               'Площадь Гагарина-Михайлевского', 'Маршала Покрышкина','Берёзовая роща','Золотая нива']"
   ]
  },
  {
   "cell_type": "code",
   "execution_count": 13,
   "metadata": {},
   "outputs": [],
   "source": [
    "NSmet = [[0] * len(NS_stations) for i in range(len(NS_stations))]"
   ]
  },
  {
   "cell_type": "code",
   "execution_count": 14,
   "metadata": {},
   "outputs": [
    {
     "name": "stdout",
     "output_type": "stream",
     "text": [
      "r ['Заельцовская', 'Гагаринская', 'Сибирская', 'Площадь Ленина', 'Октябрьская', 'Речной вокзал', 'Студенческая', 'Площадь Маркса']\n",
      "g ['Площадь Гагарина-Михайлевского', 'Сибирская', 'Маршала Покрышкина', 'Берёзовая роща', 'Золотая нива']\n"
     ]
    }
   ],
   "source": [
    "for clr in NS_lins.keys():\n",
    "    print(clr, NS_lins[clr])\n",
    "    makeLine(NS_lins[clr], NS_stations, NSmet)"
   ]
  },
  {
   "cell_type": "code",
   "execution_count": 15,
   "metadata": {},
   "outputs": [
    {
     "name": "stdout",
     "output_type": "stream",
     "text": [
      "Заельцовская -> Гагаринская\n",
      "Гагаринская -> Заельцовская\n",
      "Гагаринская -> Сибирская\n",
      "Сибирская -> Гагаринская\n",
      "Сибирская -> Площадь Ленина\n",
      "Сибирская -> Площадь Гагарина-Михайлевского\n",
      "Сибирская -> Маршала Покрышкина\n",
      "Площадь Ленина -> Сибирская\n",
      "Площадь Ленина -> Октябрьская\n",
      "Октябрьская -> Площадь Ленина\n",
      "Октябрьская -> Речной вокзал\n",
      "Речной вокзал -> Октябрьская\n",
      "Речной вокзал -> Студенческая\n",
      "Студенческая -> Речной вокзал\n",
      "Студенческая -> Площадь Маркса\n",
      "Площадь Маркса -> Студенческая\n",
      "Площадь Гагарина-Михайлевского -> Сибирская\n",
      "Маршала Покрышкина -> Сибирская\n",
      "Маршала Покрышкина -> Берёзовая роща\n",
      "Берёзовая роща -> Маршала Покрышкина\n",
      "Берёзовая роща -> Золотая нива\n",
      "Золотая нива -> Берёзовая роща\n"
     ]
    }
   ],
   "source": [
    "for i in range(len(NS_stations)):\n",
    "    for j in range(len(NS_stations)):\n",
    "        if NSmet[i][j] == 1:\n",
    "            print(NS_stations[i],'->', NS_stations[j])"
   ]
  },
  {
   "cell_type": "markdown",
   "metadata": {},
   "source": [
    "# Часть 2 Проверка на изоморфизм"
   ]
  },
  {
   "cell_type": "code",
   "execution_count": 16,
   "metadata": {},
   "outputs": [],
   "source": [
    "import networkx as nx"
   ]
  },
  {
   "cell_type": "code",
   "execution_count": 18,
   "metadata": {},
   "outputs": [],
   "source": [
    "import copy\n",
    "MR_copy = copy.deepcopy(MRmet)"
   ]
  },
  {
   "cell_type": "code",
   "execution_count": 19,
   "metadata": {},
   "outputs": [
    {
     "name": "stdout",
     "output_type": "stream",
     "text": [
      "61 Spb\n",
      "65 Monreal\n"
     ]
    }
   ],
   "source": [
    "print(len(SpbMet), ' Spb\\n', len(MR_copy),' Monreal', sep ='')"
   ]
  },
  {
   "cell_type": "markdown",
   "metadata": {},
   "source": [
    "#### Случайное отсечение станций происходит по выбору случайного листа."
   ]
  },
  {
   "cell_type": "code",
   "execution_count": 20,
   "metadata": {},
   "outputs": [],
   "source": [
    "import random\n",
    "def nbrs(MetMap):\n",
    "    lvs = {0:[], 1:[], 2:[], 3:[], 4:[], 5:[], 6:[], 7:[], 8:[], 9:[], 10:[]}\n",
    "    for i in range(len(MetMap)):\n",
    "        neb = 0\n",
    "        for j in range(len(MetMap)):\n",
    "            neb += MetMap[i][j]\n",
    "        lvs[neb].append(i)\n",
    "    return(lvs)\n",
    "def del_vert(MetMap, k):\n",
    "    flagi = 0\n",
    "    print(k)\n",
    "    for i in range(len(MetMap)):\n",
    "        flagj = 0\n",
    "        if i == k:\n",
    "            flagi = 1\n",
    "            MetMap[i].pop(k)\n",
    "            continue\n",
    "        for j in range(len(MetMap)):\n",
    "            if j == k:\n",
    "                flagj = 1\n",
    "                continue\n",
    "            MetMap[i- flagi][j - flagj] = MetMap[i][j]\n",
    "        MetMap[i].pop(k)\n",
    "    MetMap.pop()\n",
    "def RandDel(MetMap, st):\n",
    "    if st == 0:\n",
    "        return\n",
    "    else:\n",
    "        de = nbrs(MetMap)[1]\n",
    "        del_vert(MetMap, de[random.randint(0,len(de) - 1)])\n",
    "        return RandDel(MetMap, st - 1)"
   ]
  },
  {
   "cell_type": "code",
   "execution_count": 21,
   "metadata": {},
   "outputs": [
    {
     "name": "stdout",
     "output_type": "stream",
     "text": [
      "55\n",
      "29\n",
      "42\n",
      "14\n"
     ]
    }
   ],
   "source": [
    "n = abs(len(stations)- len(set(stationsMR)))\n",
    "RandDel(MR_copy, n)"
   ]
  },
  {
   "cell_type": "code",
   "execution_count": null,
   "metadata": {},
   "outputs": [],
   "source": [
    "Мой алгоритм делает 3 проверки:\n",
    "    - Колличество вершин\n",
    "    - Колличество станций каждого типа от конечной до пересечения 5 веток\n",
    "    - ищет соответствия отрезках между пересечениями и между пересечением и конечной"
   ]
  },
  {
   "cell_type": "code",
   "execution_count": 22,
   "metadata": {},
   "outputs": [],
   "source": [
    "def eql(l1, l2):\n",
    "    for i in range(len(l1)):\n",
    "        if l1[i] != l2[i]:\n",
    "            return False\n",
    "    return True\n",
    "def get_nb(v, mapi):\n",
    "    nbs = []\n",
    "    for i in range(len(mapi[v])):\n",
    "        if mapi[v][i] == 1:\n",
    "            nbs.append(i)\n",
    "    return nbs\n",
    "def len_line(mmap, fr, ex, count):\n",
    "    count += 1\n",
    "    nb = get_nb(fr, mmap)\n",
    "    #print(fr,ex,nb)\n",
    "    nb.remove(ex)\n",
    "    if len(nb) != 1:\n",
    "        return count\n",
    "    else:\n",
    "        return len_line(mmap, nb[0], fr, count)\n",
    "def is_isomorphic(map1, map2):\n",
    "    if(len(map1) != len(map2)):\n",
    "        print('Different num of vertexes')\n",
    "        return False\n",
    "    inter1 = nbrs(map1)\n",
    "    inter2 = nbrs(map2)     # make interseptions\n",
    "    for i in range(11):\n",
    "        if len(inter1[i]) != len(inter2[i]):\n",
    "            print('Different num of interseptions')\n",
    "            return False\n",
    "        \n",
    "    for i in range(3, 11):\n",
    "        n = len(inter1[i])\n",
    "        out = []            #make pair inter1[i][j] to one from inter2 \n",
    "        flag2 = False\n",
    "        for j in range(n):\n",
    "            nb = get_nb(inter1[i][j], map1)\n",
    "            nbsl = []\n",
    "            \n",
    "            for el in nb:\n",
    "                nbsl.append(len_line(map1, el, inter1[i][j], 0))\n",
    "            nbsl.sort()\n",
    "            \n",
    "            for l in range(n):\n",
    "                if (inter2[i][l] in out):\n",
    "                    continue\n",
    "                nb2 = get_nb(inter2[i][l], map2)\n",
    "                nbsl2 = []\n",
    "                flag1 = False\n",
    "                \n",
    "                for el in nb2:\n",
    "                    nbsl2.append(len_line(map2, el, inter2[i][l], 0))\n",
    "                nbsl2.sort()\n",
    "                \n",
    "                if (eql(nbsl, nbsl2)):\n",
    "                    flag1 = True\n",
    "                    out.append(inter2[i][l])\n",
    "                    break\n",
    "            if not(flag1):\n",
    "                print('Different lines')\n",
    "                return False\n",
    "    return True"
   ]
  },
  {
   "cell_type": "code",
   "execution_count": 23,
   "metadata": {},
   "outputs": [
    {
     "data": {
      "text/plain": [
       "True"
      ]
     },
     "execution_count": 23,
     "metadata": {},
     "output_type": "execute_result"
    }
   ],
   "source": [
    "is_isomorphic(SpbMet,SpbMet)"
   ]
  },
  {
   "cell_type": "markdown",
   "metadata": {},
   "source": [
    "Есть автроморфизм"
   ]
  },
  {
   "cell_type": "code",
   "execution_count": 31,
   "metadata": {},
   "outputs": [
    {
     "name": "stdout",
     "output_type": "stream",
     "text": [
      "Different num of interseptions\n"
     ]
    },
    {
     "data": {
      "text/plain": [
       "False"
      ]
     },
     "execution_count": 31,
     "metadata": {},
     "output_type": "execute_result"
    }
   ],
   "source": [
    "is_isomorphic(SpbMet, MR_copy)"
   ]
  },
  {
   "cell_type": "markdown",
   "metadata": {},
   "source": [
    "У уменьшеного метро Монреаля есть несовподения по станциям пересадок и линиям"
   ]
  },
  {
   "cell_type": "code",
   "execution_count": 24,
   "metadata": {},
   "outputs": [],
   "source": [
    "import numpy as np"
   ]
  },
  {
   "cell_type": "code",
   "execution_count": 25,
   "metadata": {},
   "outputs": [],
   "source": [
    "NSm = np.array(NSmet)\n",
    "SPBm = np.array(SpbMet)\n",
    "MRm = np.array(MR_copy)"
   ]
  },
  {
   "cell_type": "code",
   "execution_count": 26,
   "metadata": {},
   "outputs": [],
   "source": [
    "NS = nx.DiGraph(NSm)\n",
    "SP = nx.DiGraph(SPBm)\n",
    "MR = nx.DiGraph(MRm)"
   ]
  },
  {
   "cell_type": "code",
   "execution_count": 27,
   "metadata": {},
   "outputs": [
    {
     "data": {
      "text/plain": [
       "False"
      ]
     },
     "execution_count": 27,
     "metadata": {},
     "output_type": "execute_result"
    }
   ],
   "source": [
    "nx.is_isomorphic(NS, MR)"
   ]
  },
  {
   "cell_type": "code",
   "execution_count": 28,
   "metadata": {},
   "outputs": [],
   "source": [
    "from networkx.algorithms import isomorphism as iso"
   ]
  },
  {
   "cell_type": "code",
   "execution_count": 29,
   "metadata": {},
   "outputs": [],
   "source": [
    "g = iso.GraphMatcher( G1=SP, G2=NS)\n",
    "isomorphism = list(g.subgraph_isomorphisms_iter())"
   ]
  },
  {
   "cell_type": "code",
   "execution_count": 33,
   "metadata": {},
   "outputs": [
    {
     "name": "stdout",
     "output_type": "stream",
     "text": [
      "\t\t\t\tПример изоморфизма:\n",
      "\n",
      "\n",
      "Площадь Ленина -> Заельцовская\n",
      "Площадь Александра Невского 1 -> Маршала Покрышкина\n",
      "Елизаровская -> Берёзовая роща\n",
      "Достоевская -> Площадь Ленина\n",
      "Пушкинская -> Октябрьская\n",
      "Технологический институт 1 -> Речной вокзал\n",
      "Балтийская -> Студенческая\n",
      "Нарвская -> Площадь Маркса\n",
      "Чернышевская -> Гагаринская\n",
      "Площадь Восстания -> Сибирская\n",
      "Гостиный двор -> Площадь Гагарина-Михайлевского\n",
      "Ломоносовская -> Золотая нива\n"
     ]
    }
   ],
   "source": [
    "print('\\t\\t\\t\\tПример изоморфизма:\\n\\n')\n",
    "for i in isomorphism[0].keys():\n",
    "    print(stations[i], '->', NS_stations[isomorphism[0][i]])"
   ]
  },
  {
   "cell_type": "code",
   "execution_count": null,
   "metadata": {},
   "outputs": [],
   "source": []
  }
 ],
 "metadata": {
  "kernelspec": {
   "display_name": "Python 3",
   "language": "python",
   "name": "python3"
  },
  "language_info": {
   "codemirror_mode": {
    "name": "ipython",
    "version": 3
   },
   "file_extension": ".py",
   "mimetype": "text/x-python",
   "name": "python",
   "nbconvert_exporter": "python",
   "pygments_lexer": "ipython3",
   "version": "3.5.6"
  }
 },
 "nbformat": 4,
 "nbformat_minor": 2
}
